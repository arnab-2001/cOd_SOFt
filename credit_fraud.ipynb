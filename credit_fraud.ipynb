{
 "cells": [
  {
   "cell_type": "code",
   "execution_count": 1,
   "id": "821460d4-1258-45a9-bb09-380188f54ae2",
   "metadata": {},
   "outputs": [],
   "source": [
    "import pandas as pd\n",
    "import numpy as np"
   ]
  },
  {
   "cell_type": "code",
   "execution_count": 2,
   "id": "91427d6b-3fe7-4a12-bbf2-6b1687c057f4",
   "metadata": {},
   "outputs": [],
   "source": [
    "df=pd.read_csv(\"fraudTrain.csv\")\n"
   ]
  },
  {
   "cell_type": "code",
   "execution_count": 3,
   "id": "bbd1575c-74ed-4cac-91d1-fe5e1fa629d9",
   "metadata": {},
   "outputs": [
    {
     "data": {
      "text/plain": [
       "(1296675, 23)"
      ]
     },
     "execution_count": 3,
     "metadata": {},
     "output_type": "execute_result"
    }
   ],
   "source": [
    "df.shape"
   ]
  },
  {
   "cell_type": "code",
   "execution_count": 4,
   "id": "a4cd6546-77db-41df-aeab-c69e6079ff67",
   "metadata": {},
   "outputs": [
    {
     "data": {
      "text/plain": [
       "Unnamed: 0               0\n",
       "trans_date_trans_time    0\n",
       "cc_num                   0\n",
       "merchant                 0\n",
       "category                 0\n",
       "amt                      0\n",
       "first                    0\n",
       "last                     0\n",
       "gender                   0\n",
       "street                   0\n",
       "city                     0\n",
       "state                    0\n",
       "zip                      0\n",
       "lat                      0\n",
       "long                     0\n",
       "city_pop                 0\n",
       "job                      0\n",
       "dob                      0\n",
       "trans_num                0\n",
       "unix_time                0\n",
       "merch_lat                0\n",
       "merch_long               0\n",
       "is_fraud                 0\n",
       "dtype: int64"
      ]
     },
     "execution_count": 4,
     "metadata": {},
     "output_type": "execute_result"
    }
   ],
   "source": [
    "df.isnull().sum()"
   ]
  },
  {
   "cell_type": "code",
   "execution_count": 23,
   "id": "0c757a27-577e-46dc-a1b2-594663410232",
   "metadata": {},
   "outputs": [
    {
     "data": {
      "text/html": [
       "<div>\n",
       "<style scoped>\n",
       "    .dataframe tbody tr th:only-of-type {\n",
       "        vertical-align: middle;\n",
       "    }\n",
       "\n",
       "    .dataframe tbody tr th {\n",
       "        vertical-align: top;\n",
       "    }\n",
       "\n",
       "    .dataframe thead th {\n",
       "        text-align: right;\n",
       "    }\n",
       "</style>\n",
       "<table border=\"1\" class=\"dataframe\">\n",
       "  <thead>\n",
       "    <tr style=\"text-align: right;\">\n",
       "      <th></th>\n",
       "      <th>category</th>\n",
       "      <th>amt</th>\n",
       "      <th>gender</th>\n",
       "      <th>city</th>\n",
       "      <th>lat</th>\n",
       "      <th>long</th>\n",
       "      <th>job</th>\n",
       "      <th>is_fraud</th>\n",
       "    </tr>\n",
       "  </thead>\n",
       "  <tbody>\n",
       "    <tr>\n",
       "      <th>0</th>\n",
       "      <td>misc_net</td>\n",
       "      <td>4.97</td>\n",
       "      <td>F</td>\n",
       "      <td>Moravian Falls</td>\n",
       "      <td>36.0788</td>\n",
       "      <td>-81.1781</td>\n",
       "      <td>Psychologist, counselling</td>\n",
       "      <td>0</td>\n",
       "    </tr>\n",
       "    <tr>\n",
       "      <th>1</th>\n",
       "      <td>grocery_pos</td>\n",
       "      <td>107.23</td>\n",
       "      <td>F</td>\n",
       "      <td>Orient</td>\n",
       "      <td>48.8878</td>\n",
       "      <td>-118.2105</td>\n",
       "      <td>Special educational needs teacher</td>\n",
       "      <td>0</td>\n",
       "    </tr>\n",
       "    <tr>\n",
       "      <th>2</th>\n",
       "      <td>entertainment</td>\n",
       "      <td>220.11</td>\n",
       "      <td>M</td>\n",
       "      <td>Malad City</td>\n",
       "      <td>42.1808</td>\n",
       "      <td>-112.2620</td>\n",
       "      <td>Nature conservation officer</td>\n",
       "      <td>0</td>\n",
       "    </tr>\n",
       "    <tr>\n",
       "      <th>3</th>\n",
       "      <td>gas_transport</td>\n",
       "      <td>45.00</td>\n",
       "      <td>M</td>\n",
       "      <td>Boulder</td>\n",
       "      <td>46.2306</td>\n",
       "      <td>-112.1138</td>\n",
       "      <td>Patent attorney</td>\n",
       "      <td>0</td>\n",
       "    </tr>\n",
       "    <tr>\n",
       "      <th>4</th>\n",
       "      <td>misc_pos</td>\n",
       "      <td>41.96</td>\n",
       "      <td>M</td>\n",
       "      <td>Doe Hill</td>\n",
       "      <td>38.4207</td>\n",
       "      <td>-79.4629</td>\n",
       "      <td>Dance movement psychotherapist</td>\n",
       "      <td>0</td>\n",
       "    </tr>\n",
       "    <tr>\n",
       "      <th>5</th>\n",
       "      <td>gas_transport</td>\n",
       "      <td>94.63</td>\n",
       "      <td>F</td>\n",
       "      <td>Dublin</td>\n",
       "      <td>40.3750</td>\n",
       "      <td>-75.2045</td>\n",
       "      <td>Transport planner</td>\n",
       "      <td>0</td>\n",
       "    </tr>\n",
       "    <tr>\n",
       "      <th>6</th>\n",
       "      <td>grocery_net</td>\n",
       "      <td>44.54</td>\n",
       "      <td>F</td>\n",
       "      <td>Holcomb</td>\n",
       "      <td>37.9931</td>\n",
       "      <td>-100.9893</td>\n",
       "      <td>Arboriculturist</td>\n",
       "      <td>0</td>\n",
       "    </tr>\n",
       "    <tr>\n",
       "      <th>7</th>\n",
       "      <td>gas_transport</td>\n",
       "      <td>71.65</td>\n",
       "      <td>M</td>\n",
       "      <td>Edinburg</td>\n",
       "      <td>38.8432</td>\n",
       "      <td>-78.6003</td>\n",
       "      <td>Designer, multimedia</td>\n",
       "      <td>0</td>\n",
       "    </tr>\n",
       "    <tr>\n",
       "      <th>8</th>\n",
       "      <td>misc_pos</td>\n",
       "      <td>4.27</td>\n",
       "      <td>F</td>\n",
       "      <td>Manor</td>\n",
       "      <td>40.3359</td>\n",
       "      <td>-79.6607</td>\n",
       "      <td>Public affairs consultant</td>\n",
       "      <td>0</td>\n",
       "    </tr>\n",
       "    <tr>\n",
       "      <th>9</th>\n",
       "      <td>grocery_pos</td>\n",
       "      <td>198.39</td>\n",
       "      <td>F</td>\n",
       "      <td>Clarksville</td>\n",
       "      <td>36.5220</td>\n",
       "      <td>-87.3490</td>\n",
       "      <td>Pathologist</td>\n",
       "      <td>0</td>\n",
       "    </tr>\n",
       "    <tr>\n",
       "      <th>10</th>\n",
       "      <td>grocery_pos</td>\n",
       "      <td>24.74</td>\n",
       "      <td>M</td>\n",
       "      <td>Clarinda</td>\n",
       "      <td>40.7491</td>\n",
       "      <td>-95.0380</td>\n",
       "      <td>IT trainer</td>\n",
       "      <td>0</td>\n",
       "    </tr>\n",
       "  </tbody>\n",
       "</table>\n",
       "</div>"
      ],
      "text/plain": [
       "         category     amt gender            city      lat      long  \\\n",
       "0        misc_net    4.97      F  Moravian Falls  36.0788  -81.1781   \n",
       "1     grocery_pos  107.23      F          Orient  48.8878 -118.2105   \n",
       "2   entertainment  220.11      M      Malad City  42.1808 -112.2620   \n",
       "3   gas_transport   45.00      M         Boulder  46.2306 -112.1138   \n",
       "4        misc_pos   41.96      M        Doe Hill  38.4207  -79.4629   \n",
       "5   gas_transport   94.63      F          Dublin  40.3750  -75.2045   \n",
       "6     grocery_net   44.54      F         Holcomb  37.9931 -100.9893   \n",
       "7   gas_transport   71.65      M        Edinburg  38.8432  -78.6003   \n",
       "8        misc_pos    4.27      F           Manor  40.3359  -79.6607   \n",
       "9     grocery_pos  198.39      F     Clarksville  36.5220  -87.3490   \n",
       "10    grocery_pos   24.74      M        Clarinda  40.7491  -95.0380   \n",
       "\n",
       "                                  job  is_fraud  \n",
       "0           Psychologist, counselling         0  \n",
       "1   Special educational needs teacher         0  \n",
       "2         Nature conservation officer         0  \n",
       "3                     Patent attorney         0  \n",
       "4      Dance movement psychotherapist         0  \n",
       "5                   Transport planner         0  \n",
       "6                     Arboriculturist         0  \n",
       "7                Designer, multimedia         0  \n",
       "8           Public affairs consultant         0  \n",
       "9                         Pathologist         0  \n",
       "10                         IT trainer         0  "
      ]
     },
     "execution_count": 23,
     "metadata": {},
     "output_type": "execute_result"
    }
   ],
   "source": [
    "df.head(11)"
   ]
  },
  {
   "cell_type": "code",
   "execution_count": 6,
   "id": "6e7776c8-dda8-49be-88ff-a4a04356a5d6",
   "metadata": {},
   "outputs": [],
   "source": [
    "df=df[['category', 'amt', 'gender', 'city','lat', 'long', 'job' ,'is_fraud']]"
   ]
  },
  {
   "cell_type": "code",
   "execution_count": 7,
   "id": "c5d482f1-831d-4817-af5d-272699c8b18d",
   "metadata": {},
   "outputs": [
    {
     "data": {
      "text/html": [
       "<div>\n",
       "<style scoped>\n",
       "    .dataframe tbody tr th:only-of-type {\n",
       "        vertical-align: middle;\n",
       "    }\n",
       "\n",
       "    .dataframe tbody tr th {\n",
       "        vertical-align: top;\n",
       "    }\n",
       "\n",
       "    .dataframe thead th {\n",
       "        text-align: right;\n",
       "    }\n",
       "</style>\n",
       "<table border=\"1\" class=\"dataframe\">\n",
       "  <thead>\n",
       "    <tr style=\"text-align: right;\">\n",
       "      <th></th>\n",
       "      <th>category</th>\n",
       "      <th>amt</th>\n",
       "      <th>gender</th>\n",
       "      <th>city</th>\n",
       "      <th>lat</th>\n",
       "      <th>long</th>\n",
       "      <th>job</th>\n",
       "      <th>is_fraud</th>\n",
       "    </tr>\n",
       "  </thead>\n",
       "  <tbody>\n",
       "    <tr>\n",
       "      <th>0</th>\n",
       "      <td>misc_net</td>\n",
       "      <td>4.97</td>\n",
       "      <td>F</td>\n",
       "      <td>Moravian Falls</td>\n",
       "      <td>36.0788</td>\n",
       "      <td>-81.1781</td>\n",
       "      <td>Psychologist, counselling</td>\n",
       "      <td>0</td>\n",
       "    </tr>\n",
       "    <tr>\n",
       "      <th>1</th>\n",
       "      <td>grocery_pos</td>\n",
       "      <td>107.23</td>\n",
       "      <td>F</td>\n",
       "      <td>Orient</td>\n",
       "      <td>48.8878</td>\n",
       "      <td>-118.2105</td>\n",
       "      <td>Special educational needs teacher</td>\n",
       "      <td>0</td>\n",
       "    </tr>\n",
       "    <tr>\n",
       "      <th>2</th>\n",
       "      <td>entertainment</td>\n",
       "      <td>220.11</td>\n",
       "      <td>M</td>\n",
       "      <td>Malad City</td>\n",
       "      <td>42.1808</td>\n",
       "      <td>-112.2620</td>\n",
       "      <td>Nature conservation officer</td>\n",
       "      <td>0</td>\n",
       "    </tr>\n",
       "    <tr>\n",
       "      <th>3</th>\n",
       "      <td>gas_transport</td>\n",
       "      <td>45.00</td>\n",
       "      <td>M</td>\n",
       "      <td>Boulder</td>\n",
       "      <td>46.2306</td>\n",
       "      <td>-112.1138</td>\n",
       "      <td>Patent attorney</td>\n",
       "      <td>0</td>\n",
       "    </tr>\n",
       "    <tr>\n",
       "      <th>4</th>\n",
       "      <td>misc_pos</td>\n",
       "      <td>41.96</td>\n",
       "      <td>M</td>\n",
       "      <td>Doe Hill</td>\n",
       "      <td>38.4207</td>\n",
       "      <td>-79.4629</td>\n",
       "      <td>Dance movement psychotherapist</td>\n",
       "      <td>0</td>\n",
       "    </tr>\n",
       "  </tbody>\n",
       "</table>\n",
       "</div>"
      ],
      "text/plain": [
       "        category     amt gender            city      lat      long  \\\n",
       "0       misc_net    4.97      F  Moravian Falls  36.0788  -81.1781   \n",
       "1    grocery_pos  107.23      F          Orient  48.8878 -118.2105   \n",
       "2  entertainment  220.11      M      Malad City  42.1808 -112.2620   \n",
       "3  gas_transport   45.00      M         Boulder  46.2306 -112.1138   \n",
       "4       misc_pos   41.96      M        Doe Hill  38.4207  -79.4629   \n",
       "\n",
       "                                 job  is_fraud  \n",
       "0          Psychologist, counselling         0  \n",
       "1  Special educational needs teacher         0  \n",
       "2        Nature conservation officer         0  \n",
       "3                    Patent attorney         0  \n",
       "4     Dance movement psychotherapist         0  "
      ]
     },
     "execution_count": 7,
     "metadata": {},
     "output_type": "execute_result"
    }
   ],
   "source": [
    "df.head()"
   ]
  },
  {
   "cell_type": "code",
   "execution_count": 8,
   "id": "8b951bbb-776a-44f6-9347-d713f5a91ffc",
   "metadata": {},
   "outputs": [
    {
     "name": "stdout",
     "output_type": "stream",
     "text": [
      "(1289169, 8) (7506, 8)\n"
     ]
    }
   ],
   "source": [
    "from sklearn.utils import resample\n",
    "data_max=df[df.is_fraud==0]\n",
    "data_min=df[df.is_fraud==1]\n",
    "print(data_max.shape,data_min.shape)"
   ]
  },
  {
   "cell_type": "code",
   "execution_count": 9,
   "id": "026ec62b-cd1f-4663-b90c-ed6d719bf3b0",
   "metadata": {},
   "outputs": [
    {
     "data": {
      "text/plain": [
       "((100000, 8), (200000, 8))"
      ]
     },
     "execution_count": 9,
     "metadata": {},
     "output_type": "execute_result"
    }
   ],
   "source": [
    "data_min_sample=resample(data_min,n_samples=100000,random_state=123)\n",
    "mydata=pd.concat([data_max[:100000],data_min_sample])\n",
    "data_min_sample.shape,mydata.shape"
   ]
  },
  {
   "cell_type": "code",
   "execution_count": 10,
   "id": "a836f30f-89c5-4c7d-aee6-dc675e99ff04",
   "metadata": {},
   "outputs": [
    {
     "data": {
      "text/plain": [
       "is_fraud\n",
       "0    100000\n",
       "1    100000\n",
       "Name: count, dtype: int64"
      ]
     },
     "execution_count": 10,
     "metadata": {},
     "output_type": "execute_result"
    }
   ],
   "source": [
    "mydata['is_fraud'].value_counts()"
   ]
  },
  {
   "cell_type": "code",
   "execution_count": 11,
   "id": "f6373f1b-7be3-4f41-a093-b6d082eac452",
   "metadata": {},
   "outputs": [],
   "source": [
    "from sklearn.preprocessing import LabelEncoder"
   ]
  },
  {
   "cell_type": "code",
   "execution_count": 12,
   "id": "52ca064e-297e-405d-acb2-5511a629e68a",
   "metadata": {},
   "outputs": [],
   "source": [
    "la= LabelEncoder()\n",
    "label=la.fit(mydata['category'])\n",
    "mydata['category_label']=la.transform(mydata['category'])\n",
    "\n",
    "\n",
    "la1= LabelEncoder()\n",
    "label1=la1.fit(mydata['gender'])\n",
    "mydata['gender_label']=la1.transform(mydata['gender'])\n",
    "\n",
    "\n",
    "la2= LabelEncoder()\n",
    "label2=la2.fit(mydata['city'])\n",
    "mydata['city_label']=la2.transform(mydata['city'])\n",
    "\n",
    "\n",
    "la4= LabelEncoder()\n",
    "label4=la4.fit(mydata['job'])\n",
    "mydata['job_label']=la4.transform(mydata['job'])\n",
    "\n"
   ]
  },
  {
   "cell_type": "code",
   "execution_count": 13,
   "id": "fc5aaa37-3b29-435a-99d4-c91a5f95292d",
   "metadata": {},
   "outputs": [
    {
     "data": {
      "text/plain": [
       "array(['Heidelberg'], dtype=object)"
      ]
     },
     "execution_count": 13,
     "metadata": {},
     "output_type": "execute_result"
    }
   ],
   "source": [
    "la2.inverse_transform([339])"
   ]
  },
  {
   "cell_type": "code",
   "execution_count": 14,
   "id": "81e40031-c707-4c46-854d-45fbc0e8701d",
   "metadata": {},
   "outputs": [
    {
     "data": {
      "text/html": [
       "<div>\n",
       "<style scoped>\n",
       "    .dataframe tbody tr th:only-of-type {\n",
       "        vertical-align: middle;\n",
       "    }\n",
       "\n",
       "    .dataframe tbody tr th {\n",
       "        vertical-align: top;\n",
       "    }\n",
       "\n",
       "    .dataframe thead th {\n",
       "        text-align: right;\n",
       "    }\n",
       "</style>\n",
       "<table border=\"1\" class=\"dataframe\">\n",
       "  <thead>\n",
       "    <tr style=\"text-align: right;\">\n",
       "      <th></th>\n",
       "      <th>amt</th>\n",
       "      <th>lat</th>\n",
       "      <th>long</th>\n",
       "      <th>is_fraud</th>\n",
       "      <th>category_label</th>\n",
       "      <th>gender_label</th>\n",
       "      <th>city_label</th>\n",
       "      <th>job_label</th>\n",
       "    </tr>\n",
       "  </thead>\n",
       "  <tbody>\n",
       "    <tr>\n",
       "      <th>0</th>\n",
       "      <td>4.97</td>\n",
       "      <td>36.0788</td>\n",
       "      <td>-81.1781</td>\n",
       "      <td>0</td>\n",
       "      <td>8</td>\n",
       "      <td>0</td>\n",
       "      <td>526</td>\n",
       "      <td>370</td>\n",
       "    </tr>\n",
       "    <tr>\n",
       "      <th>1</th>\n",
       "      <td>107.23</td>\n",
       "      <td>48.8878</td>\n",
       "      <td>-118.2105</td>\n",
       "      <td>0</td>\n",
       "      <td>4</td>\n",
       "      <td>0</td>\n",
       "      <td>612</td>\n",
       "      <td>428</td>\n",
       "    </tr>\n",
       "    <tr>\n",
       "      <th>2</th>\n",
       "      <td>220.11</td>\n",
       "      <td>42.1808</td>\n",
       "      <td>-112.2620</td>\n",
       "      <td>0</td>\n",
       "      <td>0</td>\n",
       "      <td>1</td>\n",
       "      <td>468</td>\n",
       "      <td>307</td>\n",
       "    </tr>\n",
       "    <tr>\n",
       "      <th>3</th>\n",
       "      <td>45.00</td>\n",
       "      <td>46.2306</td>\n",
       "      <td>-112.1138</td>\n",
       "      <td>0</td>\n",
       "      <td>2</td>\n",
       "      <td>1</td>\n",
       "      <td>84</td>\n",
       "      <td>328</td>\n",
       "    </tr>\n",
       "    <tr>\n",
       "      <th>4</th>\n",
       "      <td>41.96</td>\n",
       "      <td>38.4207</td>\n",
       "      <td>-79.4629</td>\n",
       "      <td>0</td>\n",
       "      <td>9</td>\n",
       "      <td>1</td>\n",
       "      <td>216</td>\n",
       "      <td>116</td>\n",
       "    </tr>\n",
       "    <tr>\n",
       "      <th>...</th>\n",
       "      <td>...</td>\n",
       "      <td>...</td>\n",
       "      <td>...</td>\n",
       "      <td>...</td>\n",
       "      <td>...</td>\n",
       "      <td>...</td>\n",
       "      <td>...</td>\n",
       "      <td>...</td>\n",
       "    </tr>\n",
       "    <tr>\n",
       "      <th>869252</th>\n",
       "      <td>974.87</td>\n",
       "      <td>33.9659</td>\n",
       "      <td>-80.9355</td>\n",
       "      <td>1</td>\n",
       "      <td>11</td>\n",
       "      <td>1</td>\n",
       "      <td>168</td>\n",
       "      <td>287</td>\n",
       "    </tr>\n",
       "    <tr>\n",
       "      <th>83957</th>\n",
       "      <td>284.63</td>\n",
       "      <td>42.5164</td>\n",
       "      <td>-82.9832</td>\n",
       "      <td>1</td>\n",
       "      <td>4</td>\n",
       "      <td>1</td>\n",
       "      <td>837</td>\n",
       "      <td>135</td>\n",
       "    </tr>\n",
       "    <tr>\n",
       "      <th>1023381</th>\n",
       "      <td>672.71</td>\n",
       "      <td>34.0443</td>\n",
       "      <td>-118.2509</td>\n",
       "      <td>1</td>\n",
       "      <td>8</td>\n",
       "      <td>0</td>\n",
       "      <td>457</td>\n",
       "      <td>258</td>\n",
       "    </tr>\n",
       "    <tr>\n",
       "      <th>598604</th>\n",
       "      <td>941.63</td>\n",
       "      <td>27.9551</td>\n",
       "      <td>-82.2966</td>\n",
       "      <td>1</td>\n",
       "      <td>11</td>\n",
       "      <td>0</td>\n",
       "      <td>90</td>\n",
       "      <td>178</td>\n",
       "    </tr>\n",
       "    <tr>\n",
       "      <th>1071190</th>\n",
       "      <td>298.64</td>\n",
       "      <td>36.1499</td>\n",
       "      <td>-95.7923</td>\n",
       "      <td>1</td>\n",
       "      <td>4</td>\n",
       "      <td>0</td>\n",
       "      <td>810</td>\n",
       "      <td>381</td>\n",
       "    </tr>\n",
       "  </tbody>\n",
       "</table>\n",
       "<p>200000 rows × 8 columns</p>\n",
       "</div>"
      ],
      "text/plain": [
       "            amt      lat      long  is_fraud  category_label  gender_label  \\\n",
       "0          4.97  36.0788  -81.1781         0               8             0   \n",
       "1        107.23  48.8878 -118.2105         0               4             0   \n",
       "2        220.11  42.1808 -112.2620         0               0             1   \n",
       "3         45.00  46.2306 -112.1138         0               2             1   \n",
       "4         41.96  38.4207  -79.4629         0               9             1   \n",
       "...         ...      ...       ...       ...             ...           ...   \n",
       "869252   974.87  33.9659  -80.9355         1              11             1   \n",
       "83957    284.63  42.5164  -82.9832         1               4             1   \n",
       "1023381  672.71  34.0443 -118.2509         1               8             0   \n",
       "598604   941.63  27.9551  -82.2966         1              11             0   \n",
       "1071190  298.64  36.1499  -95.7923         1               4             0   \n",
       "\n",
       "         city_label  job_label  \n",
       "0               526        370  \n",
       "1               612        428  \n",
       "2               468        307  \n",
       "3                84        328  \n",
       "4               216        116  \n",
       "...             ...        ...  \n",
       "869252          168        287  \n",
       "83957           837        135  \n",
       "1023381         457        258  \n",
       "598604           90        178  \n",
       "1071190         810        381  \n",
       "\n",
       "[200000 rows x 8 columns]"
      ]
     },
     "execution_count": 14,
     "metadata": {},
     "output_type": "execute_result"
    }
   ],
   "source": [
    "dff=mydata.drop(['category','gender','city','job'],axis=1)\n",
    "dff"
   ]
  },
  {
   "cell_type": "code",
   "execution_count": 15,
   "id": "3badf4f8-761f-4e35-9fdc-c521b4cc5ae5",
   "metadata": {},
   "outputs": [
    {
     "data": {
      "text/plain": [
       "[np.int64(8),\n",
       " np.int64(4),\n",
       " np.int64(0),\n",
       " np.int64(2),\n",
       " np.int64(9),\n",
       " np.int64(3),\n",
       " np.int64(11),\n",
       " np.int64(12),\n",
       " np.int64(1),\n",
       " np.int64(10),\n",
       " np.int64(5),\n",
       " np.int64(13),\n",
       " np.int64(7),\n",
       " np.int64(6)]"
      ]
     },
     "execution_count": 15,
     "metadata": {},
     "output_type": "execute_result"
    }
   ],
   "source": [
    "cat_list=list(dff['category_label'].unique())\n",
    "cat_list"
   ]
  },
  {
   "cell_type": "code",
   "execution_count": 16,
   "id": "b877f410-50a2-4c9f-976d-ad584efd8307",
   "metadata": {},
   "outputs": [
    {
     "name": "stdout",
     "output_type": "stream",
     "text": [
      "['misc_net' 'grocery_pos' 'entertainment' 'gas_transport' 'misc_pos'\n",
      " 'grocery_net' 'shopping_net' 'shopping_pos' 'food_dining' 'personal_care'\n",
      " 'health_fitness' 'travel' 'kids_pets' 'home']\n"
     ]
    }
   ],
   "source": [
    "print(la.inverse_transform(cat_list))"
   ]
  },
  {
   "cell_type": "code",
   "execution_count": 17,
   "id": "d087e975-3909-4ad8-a875-376d47ecc141",
   "metadata": {},
   "outputs": [],
   "source": [
    "x=dff.drop('is_fraud',axis=1)\n",
    "y=dff['is_fraud']"
   ]
  },
  {
   "cell_type": "code",
   "execution_count": 18,
   "id": "7f1b360b-0d14-4a3a-a447-9c648ec19c5e",
   "metadata": {},
   "outputs": [],
   "source": [
    "from sklearn import preprocessing\n",
    "from sklearn.model_selection import train_test_split\n",
    "x_train,x_test,y_train,y_test=train_test_split(x,y,test_size=0.1)"
   ]
  },
  {
   "cell_type": "code",
   "execution_count": 19,
   "id": "c87fadd3-2c8b-431d-8464-9146061c3a2b",
   "metadata": {},
   "outputs": [
    {
     "name": "stdout",
     "output_type": "stream",
     "text": [
      "accuracy 0.9962\n"
     ]
    }
   ],
   "source": [
    "from sklearn.ensemble import RandomForestClassifier\n",
    "\n",
    "from sklearn.metrics import accuracy_score,confusion_matrix,precision_score\n",
    "clf =RandomForestClassifier(n_estimators=100)\n",
    "clf.fit(x_train,y_train)\n",
    "y_pred=clf.predict(x_test)\n",
    "\n",
    "print(\"accuracy\",accuracy_score(y_test,y_pred))"
   ]
  },
  {
   "cell_type": "code",
   "execution_count": 24,
   "id": "0dc0cfc6-16bc-4ce9-89de-813552511628",
   "metadata": {},
   "outputs": [],
   "source": []
  },
  {
   "cell_type": "code",
   "execution_count": 25,
   "id": "fd2fdb50-8dc3-47da-8ac6-8a046b61a544",
   "metadata": {},
   "outputs": [],
   "source": []
  },
  {
   "cell_type": "code",
   "execution_count": 28,
   "id": "a83cab88-e5f6-4756-9df3-134d19a922e9",
   "metadata": {},
   "outputs": [
    {
     "data": {
      "text/plain": [
       "['job_encoder.pkl']"
      ]
     },
     "execution_count": 28,
     "metadata": {},
     "output_type": "execute_result"
    }
   ],
   "source": [
    "import joblib\n",
    "\n",
    "# Save the model to a file\n",
    "joblib.dump(clf, 'fraud_detection_model.pkl')\n",
    "\n",
    "# Also save the label encoders if needed for new predictions\n",
    "joblib.dump(la, 'category_encoder.pkl')\n",
    "joblib.dump(la1, 'gender_encoder.pkl')\n",
    "joblib.dump(la2, 'city_encoder.pkl')\n",
    "joblib.dump(la4, 'job_encoder.pkl')\n"
   ]
  },
  {
   "cell_type": "code",
   "execution_count": null,
   "id": "d14a8510-04e3-4aed-bc9a-a91f374ddaf1",
   "metadata": {},
   "outputs": [],
   "source": []
  }
 ],
 "metadata": {
  "kernelspec": {
   "display_name": "Python 3 (ipykernel)",
   "language": "python",
   "name": "python3"
  },
  "language_info": {
   "codemirror_mode": {
    "name": "ipython",
    "version": 3
   },
   "file_extension": ".py",
   "mimetype": "text/x-python",
   "name": "python",
   "nbconvert_exporter": "python",
   "pygments_lexer": "ipython3",
   "version": "3.12.4"
  }
 },
 "nbformat": 4,
 "nbformat_minor": 5
}
